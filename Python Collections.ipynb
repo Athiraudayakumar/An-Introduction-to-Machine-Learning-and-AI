{
 "cells": [
  {
   "cell_type": "markdown",
   "id": "190745c1",
   "metadata": {},
   "source": [
    "# list"
   ]
  },
  {
   "cell_type": "code",
   "execution_count": 3,
   "id": "27d248f2",
   "metadata": {},
   "outputs": [],
   "source": [
    "list = [1,2,3.5,7]"
   ]
  },
  {
   "cell_type": "code",
   "execution_count": 2,
   "id": "ed0afa74",
   "metadata": {
    "scrolled": true
   },
   "outputs": [
    {
     "data": {
      "text/plain": [
       "[1, 2, 3.5, 7]"
      ]
     },
     "execution_count": 2,
     "metadata": {},
     "output_type": "execute_result"
    }
   ],
   "source": [
    "list"
   ]
  },
  {
   "cell_type": "code",
   "execution_count": 5,
   "id": "a1c0286d",
   "metadata": {},
   "outputs": [
    {
     "name": "stdout",
     "output_type": "stream",
     "text": [
      "[1, 3, 5, 7, 9, 11, 13, 15, 17, 19, 21, 23, 25, 27, 29, 31, 33, 35, 37, 39, 41, 43, 45, 47, 49]\n",
      "[1, 3, 8, 7, 9, 11, 13, 15, 17, 19, 21, 23, 25, 27, 29, 31, 33, 35, 37, 39, 41, 43, 45, 47, 49]\n"
     ]
    }
   ],
   "source": [
    "#list comprehention\n",
    "\n",
    "list = [1,2,3,4,5]\n",
    "a=[]\n",
    "for x in range(1,50,2):\n",
    "    a.append(x)\n",
    "# a= [x for x in range(1,50,2)]\n",
    "print(a)\n",
    "a[2] = 8\n",
    "print(a)"
   ]
  },
  {
   "cell_type": "code",
   "execution_count": 9,
   "id": "d587a616",
   "metadata": {},
   "outputs": [],
   "source": [
    "list.append(\"Athira\")\n",
    "list.append(1)"
   ]
  },
  {
   "cell_type": "code",
   "execution_count": 10,
   "id": "8786f242",
   "metadata": {},
   "outputs": [
    {
     "data": {
      "text/plain": [
       "[1, 2, 3, 4, 5, 'Athira', 'Athira', 1]"
      ]
     },
     "execution_count": 10,
     "metadata": {},
     "output_type": "execute_result"
    }
   ],
   "source": [
    "list"
   ]
  },
  {
   "cell_type": "code",
   "execution_count": null,
   "id": "eb5e3b85",
   "metadata": {},
   "outputs": [],
   "source": [
    "#1.Hetrogenouse\n",
    "#2.ordered and indexed\n",
    "#3. Mutable \n",
    "#4. Hetrogenouse\n",
    "#5. Allow Duplicate"
   ]
  },
  {
   "cell_type": "markdown",
   "id": "c62e9df0",
   "metadata": {},
   "source": [
    "# Tuple"
   ]
  },
  {
   "cell_type": "code",
   "execution_count": 18,
   "id": "547d3ad1",
   "metadata": {},
   "outputs": [
    {
     "data": {
      "text/plain": [
       "(1, 5, 3, 4, 6, 4, 'hai')"
      ]
     },
     "execution_count": 18,
     "metadata": {},
     "output_type": "execute_result"
    }
   ],
   "source": [
    "t = (1,5,3,4,6,4,\"hai\")\n",
    "t"
   ]
  },
  {
   "cell_type": "code",
   "execution_count": 30,
   "id": "b91a983a",
   "metadata": {},
   "outputs": [
    {
     "data": {
      "text/plain": [
       "4"
      ]
     },
     "execution_count": 30,
     "metadata": {},
     "output_type": "execute_result"
    }
   ],
   "source": [
    "t[3]"
   ]
  },
  {
   "cell_type": "code",
   "execution_count": 6,
   "id": "295fbd91",
   "metadata": {},
   "outputs": [
    {
     "ename": "NameError",
     "evalue": "name 't' is not defined",
     "output_type": "error",
     "traceback": [
      "\u001b[1;31m---------------------------------------------------------------------------\u001b[0m",
      "\u001b[1;31mNameError\u001b[0m                                 Traceback (most recent call last)",
      "\u001b[1;32m<ipython-input-6-791b664e8e14>\u001b[0m in \u001b[0;36m<module>\u001b[1;34m\u001b[0m\n\u001b[1;32m----> 1\u001b[1;33m \u001b[0mt\u001b[0m\u001b[1;33m[\u001b[0m\u001b[1;36m1\u001b[0m\u001b[1;33m]\u001b[0m\u001b[1;33m=\u001b[0m\u001b[1;36m6\u001b[0m\u001b[1;33m\u001b[0m\u001b[1;33m\u001b[0m\u001b[0m\n\u001b[0m",
      "\u001b[1;31mNameError\u001b[0m: name 't' is not defined"
     ]
    }
   ],
   "source": [
    "t[1]=6"
   ]
  },
  {
   "cell_type": "code",
   "execution_count": null,
   "id": "43f875e0",
   "metadata": {},
   "outputs": [],
   "source": [
    "#ordered and indexed\n",
    "#Allow duplicates\n",
    "# Hetrogenouse\n",
    "#Immutable"
   ]
  },
  {
   "cell_type": "markdown",
   "id": "161ffd2b",
   "metadata": {},
   "source": [
    "# Set"
   ]
  },
  {
   "cell_type": "code",
   "execution_count": 23,
   "id": "a231f9d8",
   "metadata": {},
   "outputs": [
    {
     "data": {
      "text/plain": [
       "{1, 2, 3, 4}"
      ]
     },
     "execution_count": 23,
     "metadata": {},
     "output_type": "execute_result"
    }
   ],
   "source": [
    "s={2,1,3,4}\n",
    "s"
   ]
  },
  {
   "cell_type": "code",
   "execution_count": 29,
   "id": "fac2980e",
   "metadata": {},
   "outputs": [
    {
     "data": {
      "text/plain": [
       "{1, 2, 3, 4, 8, 'hai'}"
      ]
     },
     "execution_count": 29,
     "metadata": {},
     "output_type": "execute_result"
    }
   ],
   "source": [
    "s.add(8)\n",
    "s\n",
    "s.add(\"hai\")\n",
    "s"
   ]
  },
  {
   "cell_type": "code",
   "execution_count": null,
   "id": "79185048",
   "metadata": {},
   "outputs": [],
   "source": [
    "#1. not ordered and not indexed\n",
    "#2. no duplicates\n",
    "#3. Hetrogenouse\n",
    "#4. Immutable"
   ]
  },
  {
   "cell_type": "markdown",
   "id": "5fab52e6",
   "metadata": {},
   "source": [
    "# Dictionary"
   ]
  },
  {
   "cell_type": "code",
   "execution_count": 33,
   "id": "d3450630",
   "metadata": {},
   "outputs": [],
   "source": [
    "d={\"name\":\"athira\",\"age\":45,\"gender\":\"female\"}"
   ]
  },
  {
   "cell_type": "code",
   "execution_count": 36,
   "id": "b9248888",
   "metadata": {},
   "outputs": [
    {
     "data": {
      "text/plain": [
       "{'name': 'amma', 'age': 45, 'gender': 'female'}"
      ]
     },
     "execution_count": 36,
     "metadata": {},
     "output_type": "execute_result"
    }
   ],
   "source": [
    "d[\"name\"]=\"amma\"\n",
    "d"
   ]
  },
  {
   "cell_type": "code",
   "execution_count": null,
   "id": "9ddf3238",
   "metadata": {},
   "outputs": [],
   "source": [
    "#No duplicates for key value\n",
    "#indexed but not ordered\n",
    "#hetrogenouse\n",
    "#mutable"
   ]
  },
  {
   "cell_type": "markdown",
   "id": "a7301370",
   "metadata": {},
   "source": [
    "# String"
   ]
  },
  {
   "cell_type": "code",
   "execution_count": 39,
   "id": "7fedd967",
   "metadata": {
    "scrolled": true
   },
   "outputs": [
    {
     "ename": "TypeError",
     "evalue": "'str' object does not support item assignment",
     "output_type": "error",
     "traceback": [
      "\u001b[1;31m---------------------------------------------------------------------------\u001b[0m",
      "\u001b[1;31mTypeError\u001b[0m                                 Traceback (most recent call last)",
      "\u001b[1;32m<ipython-input-39-cc80ccd632d2>\u001b[0m in \u001b[0;36m<module>\u001b[1;34m\u001b[0m\n\u001b[0;32m      1\u001b[0m \u001b[0ma\u001b[0m\u001b[1;33m=\u001b[0m\u001b[1;34m\"Amma\"\u001b[0m\u001b[1;33m\u001b[0m\u001b[1;33m\u001b[0m\u001b[0m\n\u001b[0;32m      2\u001b[0m \u001b[0ma\u001b[0m\u001b[1;33m[\u001b[0m\u001b[1;36m0\u001b[0m\u001b[1;33m]\u001b[0m\u001b[1;33m\u001b[0m\u001b[1;33m\u001b[0m\u001b[0m\n\u001b[1;32m----> 3\u001b[1;33m \u001b[0ma\u001b[0m\u001b[1;33m[\u001b[0m\u001b[1;36m0\u001b[0m\u001b[1;33m]\u001b[0m\u001b[1;33m=\u001b[0m\u001b[1;34m\"t\"\u001b[0m\u001b[1;33m\u001b[0m\u001b[1;33m\u001b[0m\u001b[0m\n\u001b[0m",
      "\u001b[1;31mTypeError\u001b[0m: 'str' object does not support item assignment"
     ]
    }
   ],
   "source": [
    "a=\"Amma\"\n",
    "a[0]\n",
    "a[0]=\"t\""
   ]
  },
  {
   "cell_type": "code",
   "execution_count": null,
   "id": "99a68880",
   "metadata": {},
   "outputs": [],
   "source": [
    "#immutable\n",
    "#indexed"
   ]
  },
  {
   "cell_type": "code",
   "execution_count": null,
   "id": "e402abf3",
   "metadata": {},
   "outputs": [],
   "source": []
  }
 ],
 "metadata": {
  "kernelspec": {
   "display_name": "Python 3",
   "language": "python",
   "name": "python3"
  },
  "language_info": {
   "codemirror_mode": {
    "name": "ipython",
    "version": 3
   },
   "file_extension": ".py",
   "mimetype": "text/x-python",
   "name": "python",
   "nbconvert_exporter": "python",
   "pygments_lexer": "ipython3",
   "version": "3.8.8"
  }
 },
 "nbformat": 4,
 "nbformat_minor": 5
}
