{
  "nbformat": 4,
  "nbformat_minor": 0,
  "metadata": {
    "colab": {
      "name": "Untitled1.ipynb",
      "provenance": [],
      "collapsed_sections": [],
      "authorship_tag": "ABX9TyP/DlmMeY4cHk8YYBj9/QgK",
      "include_colab_link": true
    },
    "kernelspec": {
      "name": "python3",
      "display_name": "Python 3"
    },
    "language_info": {
      "name": "python"
    }
  },
  "cells": [
    {
      "cell_type": "markdown",
      "metadata": {
        "id": "view-in-github",
        "colab_type": "text"
      },
      "source": [
        "<a href=\"https://colab.research.google.com/github/Athiraudayakumar/An-Introduction-to-Machine-Learning-and-AI/blob/main/chatbot.ipynb\" target=\"_parent\"><img src=\"https://colab.research.google.com/assets/colab-badge.svg\" alt=\"Open In Colab\"/></a>"
      ]
    },
    {
      "cell_type": "code",
      "metadata": {
        "colab": {
          "base_uri": "https://localhost:8080/"
        },
        "id": "vdwIVIsscM4h",
        "outputId": "e3cba105-1b06-4aac-e3a4-0966f6f6f58c"
      },
      "source": [
        "!pip install chatterbot"
      ],
      "execution_count": 4,
      "outputs": [
        {
          "output_type": "stream",
          "text": [
            "Collecting chatterbot\n",
            "  Downloading ChatterBot-1.0.8-py2.py3-none-any.whl (63 kB)\n",
            "\u001b[K     |████████████████████████████████| 63 kB 1.5 MB/s \n",
            "\u001b[?25hCollecting mathparse<0.2,>=0.1\n",
            "  Downloading mathparse-0.1.2-py3-none-any.whl (7.2 kB)\n",
            "Requirement already satisfied: pytz in /usr/local/lib/python3.7/dist-packages (from chatterbot) (2018.9)\n",
            "Requirement already satisfied: python-dateutil<2.9,>=2.8 in /usr/local/lib/python3.7/dist-packages (from chatterbot) (2.8.2)\n",
            "Collecting sqlalchemy<1.4,>=1.3\n",
            "  Downloading SQLAlchemy-1.3.24-cp37-cp37m-manylinux2010_x86_64.whl (1.3 MB)\n",
            "\u001b[K     |████████████████████████████████| 1.3 MB 15.9 MB/s \n",
            "\u001b[?25hRequirement already satisfied: six>=1.5 in /usr/local/lib/python3.7/dist-packages (from python-dateutil<2.9,>=2.8->chatterbot) (1.15.0)\n",
            "Installing collected packages: sqlalchemy, mathparse, chatterbot\n",
            "  Attempting uninstall: sqlalchemy\n",
            "    Found existing installation: SQLAlchemy 1.4.22\n",
            "    Uninstalling SQLAlchemy-1.4.22:\n",
            "      Successfully uninstalled SQLAlchemy-1.4.22\n",
            "Successfully installed chatterbot-1.0.8 mathparse-0.1.2 sqlalchemy-1.3.24\n"
          ],
          "name": "stdout"
        }
      ]
    },
    {
      "cell_type": "code",
      "metadata": {
        "colab": {
          "base_uri": "https://localhost:8080/"
        },
        "id": "-jaVuR1niEhK",
        "outputId": "753d52f6-5b73-4ca2-94a6-372575eef31f"
      },
      "source": [
        "!pip install chatterbot_corpus"
      ],
      "execution_count": 5,
      "outputs": [
        {
          "output_type": "stream",
          "text": [
            "Collecting chatterbot_corpus\n",
            "  Downloading chatterbot_corpus-1.2.0-py2.py3-none-any.whl (117 kB)\n",
            "\u001b[?25l\r\u001b[K     |██▉                             | 10 kB 19.8 MB/s eta 0:00:01\r\u001b[K     |█████▋                          | 20 kB 25.0 MB/s eta 0:00:01\r\u001b[K     |████████▍                       | 30 kB 15.2 MB/s eta 0:00:01\r\u001b[K     |███████████▏                    | 40 kB 7.2 MB/s eta 0:00:01\r\u001b[K     |██████████████                  | 51 kB 8.5 MB/s eta 0:00:01\r\u001b[K     |████████████████▊               | 61 kB 8.3 MB/s eta 0:00:01\r\u001b[K     |███████████████████▋            | 71 kB 8.8 MB/s eta 0:00:01\r\u001b[K     |██████████████████████▍         | 81 kB 7.6 MB/s eta 0:00:01\r\u001b[K     |█████████████████████████▏      | 92 kB 8.3 MB/s eta 0:00:01\r\u001b[K     |████████████████████████████    | 102 kB 9.1 MB/s eta 0:00:01\r\u001b[K     |██████████████████████████████▊ | 112 kB 9.1 MB/s eta 0:00:01\r\u001b[K     |████████████████████████████████| 117 kB 9.1 MB/s \n",
            "\u001b[?25hRequirement already satisfied: PyYAML<4.0,>=3.12 in /usr/local/lib/python3.7/dist-packages (from chatterbot_corpus) (3.13)\n",
            "Installing collected packages: chatterbot-corpus\n",
            "Successfully installed chatterbot-corpus-1.2.0\n"
          ],
          "name": "stdout"
        }
      ]
    },
    {
      "cell_type": "markdown",
      "metadata": {
        "id": "WIeN_xlAcXH0"
      },
      "source": [
        ""
      ]
    },
    {
      "cell_type": "markdown",
      "metadata": {
        "id": "KbKn8oLYcfVB"
      },
      "source": [
        ""
      ]
    },
    {
      "cell_type": "code",
      "metadata": {
        "colab": {
          "base_uri": "https://localhost:8080/"
        },
        "id": "w0tGjyXpcf_J",
        "outputId": "3fb7aac5-416d-4e0b-abbc-8d435b1e5195"
      },
      "source": [
        "from chatterbot import ChatBot\n",
        "from chatterbot.trainers import ChatterBotCorpusTrainer\n",
        "chatbot = ChatBot('mybot')\n",
        "trainer= ChatterBotCorpusTrainer(chatbot)\n",
        "trainer.train(\"chatterbot.corpus.english\")"
      ],
      "execution_count": 6,
      "outputs": [
        {
          "output_type": "stream",
          "text": [
            "Training ai.yml: [####################] 100%\n",
            "Training botprofile.yml: [####################] 100%\n",
            "Training computers.yml: [####################] 100%\n",
            "Training conversations.yml: [####################] 100%\n",
            "Training emotion.yml: [####################] 100%\n",
            "Training food.yml: [####################] 100%\n",
            "Training gossip.yml: [####################] 100%\n",
            "Training greetings.yml: [####################] 100%\n",
            "Training health.yml: [####################] 100%\n",
            "Training history.yml: [####################] 100%\n",
            "Training humor.yml: [####################] 100%\n",
            "Training literature.yml: [####################] 100%\n",
            "Training money.yml: [####################] 100%\n",
            "Training movies.yml: [####################] 100%\n",
            "Training politics.yml: [####################] 100%\n",
            "Training psychology.yml: [####################] 100%\n",
            "Training science.yml: [####################] 100%\n",
            "\n",
            "Training trivia.yml: [####################] 100%\n"
          ],
          "name": "stdout"
        }
      ]
    },
    {
      "cell_type": "code",
      "metadata": {
        "colab": {
          "base_uri": "https://localhost:8080/"
        },
        "id": "wmoU7Jy-kZ2F",
        "outputId": "d45f0fff-0266-4dcc-dc5d-f6dc99adf6b4"
      },
      "source": [
        "# Import \"chatbot\" from \n",
        "# chatterbot package.\n",
        "from chatterbot import ChatBot\n",
        "   \n",
        "# Inorder to train our bot, we have \n",
        "# to import a trainer package\n",
        "# \"ChatterBotCorpusTrainer\"\n",
        "from chatterbot.trainers import ChatterBotCorpusTrainer\n",
        "  \n",
        "   \n",
        "# Give a name to the chatbot “corona bot”\n",
        "# and assign a trainer component.\n",
        "chatbot=ChatBot('corona bot')\n",
        "  \n",
        "# Create a new trainer for the chatbot\n",
        "trainer = ChatterBotCorpusTrainer(chatbot)\n",
        "   \n",
        "# Now let us train our bot with multipple corpus\n",
        "trainer.train(\"chatterbot.corpus.english.greetings\",\n",
        "              \"chatterbot.corpus.english.conversations\" )\n",
        "query = input('Ask :')\n",
        "response = chatbot.get_response((query))\n",
        "print(response)\n",
        "  \n",
        "# response = chatbot.get_response('who is this')\n",
        "# print(response)"
      ],
      "execution_count": 8,
      "outputs": [
        {
          "output_type": "stream",
          "text": [
            "Training greetings.yml: [####################] 100%\n",
            "Training conversations.yml: [####################] 100%\n",
            "Ask :hi\n",
            "How are you doing?\n"
          ],
          "name": "stdout"
        }
      ]
    }
  ]
}